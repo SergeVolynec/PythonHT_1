{
 "cells": [
  {
   "cell_type": "markdown",
   "id": "26a3a632",
   "metadata": {},
   "source": [
    "## *Условие 2: *"
   ]
  },
  {
   "cell_type": "markdown",
   "id": "f25b0fc4",
   "metadata": {},
   "source": [
    "На складе лежат разные фрукты в разном количестве.\n",
    "Нужно написать функцию, которая на вход принимает любое количество названий фруктов и их количество, а возвращает общее количество фруктов на складе"
   ]
  },
  {
   "cell_type": "code",
   "execution_count": 6,
   "id": "9b14f30d",
   "metadata": {},
   "outputs": [],
   "source": [
    "def fruit_count(**kwargs)->int:\n",
    "    total = 0\n",
    "    for value in kwargs.values():\n",
    "        total = total + value\n",
    "    return total"
   ]
  },
  {
   "cell_type": "code",
   "execution_count": 7,
   "id": "6f9e9b8d",
   "metadata": {
    "scrolled": false
   },
   "outputs": [
    {
     "data": {
      "text/plain": [
       "20"
      ]
     },
     "execution_count": 7,
     "metadata": {},
     "output_type": "execute_result"
    }
   ],
   "source": [
    "fruit_count(banana=5, mango=7, apple=8)"
   ]
  },
  {
   "cell_type": "markdown",
   "id": "d60da9af",
   "metadata": {},
   "source": [
    "## *Условие 3: *"
   ]
  },
  {
   "cell_type": "markdown",
   "id": "a9d157f0",
   "metadata": {},
   "source": [
    "Дан список с затратами на рекламу. Но в данных есть ошибки, некоторые затраты имеют отрицательную величину. Удалите такие значения из списка и посчитайте суммарные затраты\n",
    "[100, 125, -90, 345, 655, -1, 0, 200]\n",
    "Используйте list comprehensions"
   ]
  },
  {
   "cell_type": "code",
   "execution_count": 8,
   "id": "0c26651d",
   "metadata": {},
   "outputs": [],
   "source": [
    "costs = [100, 125, -90, 345, 655, -1, 0, 200]"
   ]
  },
  {
   "cell_type": "code",
   "execution_count": 9,
   "id": "d55add76",
   "metadata": {},
   "outputs": [],
   "source": [
    "positive_costs = [i for i in costs if i >= 0 ]"
   ]
  },
  {
   "cell_type": "code",
   "execution_count": 10,
   "id": "d04b0f1e",
   "metadata": {},
   "outputs": [
    {
     "data": {
      "text/plain": [
       "1425"
      ]
     },
     "execution_count": 10,
     "metadata": {},
     "output_type": "execute_result"
    }
   ],
   "source": [
    "sum(positive_costs)"
   ]
  },
  {
   "cell_type": "markdown",
   "id": "354617b3",
   "metadata": {},
   "source": [
    "## *Условие 4: *"
   ]
  },
  {
   "cell_type": "markdown",
   "id": "8d543282",
   "metadata": {},
   "source": [
    "Даны два списка.\n",
    "Дата покупки\n",
    "['2021-09-14', '2021-12-15', '2021-09-08', '2021-12-05', '2021-10-09', '2021-09-30', '2021-12-22', '2021-11-29', '2021-12-24', '2021-11-26', '2021-10-27', '2021-12-18', '2021-11-09', '2021-11-23', '2021-09-27', '2021-10-02', '2021-12-27', '2021-09-20', '2021-12-13', '2021-11-01', '2021-11-09', '2021-12-06', '2021-12-08', '2021-10-09', '2021-10-31', '2021-09-30', '2021-11-09', '2021-12-13', '2021-10-26', '2021-12-09']\n",
    "Суммы покупок по датам\n",
    "[1270, 8413, 9028, 3703, 5739, 4095, 295, 4944, 5723, 3701, 4471, 651, 7037, 4274, 6275, 4988, 6930, 2971, 6592, 2004, 2822, 519, 3406, 2732, 5015, 2008, 316, 6333, 5700, 2887]"
   ]
  },
  {
   "cell_type": "markdown",
   "id": "1aa2878b",
   "metadata": {},
   "source": [
    "### 4.1"
   ]
  },
  {
   "cell_type": "markdown",
   "id": "55c2fccb",
   "metadata": {},
   "source": [
    "Найдите, какая выручка у компании в ноябре\n",
    "Используйте list comprehensions"
   ]
  },
  {
   "cell_type": "code",
   "execution_count": 11,
   "id": "3fff7374",
   "metadata": {},
   "outputs": [],
   "source": [
    "dates = ['2021-09-14', '2021-12-15', '2021-09-08', '2021-12-05', '2021-10-09', '2021-09-30', '2021-12-22',\n",
    "         '2021-11-29', '2021-12-24', '2021-11-26', '2021-10-27', '2021-12-18', '2021-11-09', '2021-11-23',\n",
    "         '2021-09-27', '2021-10-02', '2021-12-27', '2021-09-20', '2021-12-13', '2021-11-01', '2021-11-09',\n",
    "         '2021-12-06', '2021-12-08', '2021-10-09', '2021-10-31', '2021-09-30', '2021-11-09', '2021-12-13',\n",
    "         '2021-10-26', '2021-12-09']\n",
    "income = [1270, 8413, 9028, 3703, 5739, 4095, 295, 4944, 5723, 3701, 4471, 651, 7037, 4274, 6275, 4988, 6930,\n",
    "          2971, 6592, 2004, 2822, 519, 3406, 2732, 5015, 2008, 316, 6333, 5700, 2887]"
   ]
  },
  {
   "cell_type": "code",
   "execution_count": 12,
   "id": "2813d83c",
   "metadata": {},
   "outputs": [],
   "source": [
    "november_income = [income[i] for i in range(len(dates)) if dates[i].find(\"-11-\") != -1]"
   ]
  },
  {
   "cell_type": "code",
   "execution_count": 13,
   "id": "75b0b051",
   "metadata": {},
   "outputs": [
    {
     "data": {
      "text/plain": [
       "25098"
      ]
     },
     "execution_count": 13,
     "metadata": {},
     "output_type": "execute_result"
    }
   ],
   "source": [
    "sum(november_income)"
   ]
  },
  {
   "cell_type": "markdown",
   "id": "f052a0c3",
   "metadata": {},
   "source": [
    "### 4.2"
   ]
  },
  {
   "cell_type": "markdown",
   "id": "1b09a259",
   "metadata": {},
   "source": [
    "Найдите выручку компании в зависимости от месяца\n",
    "Для этого напишите функцию, которая на вход принимает список с датами и список с выручкой, а на выходе словарь, где ключи - это месяцы, а значения - это выручка.\n",
    "Используйте аннотирование типов."
   ]
  },
  {
   "cell_type": "code",
   "execution_count": 14,
   "id": "425467d5",
   "metadata": {},
   "outputs": [],
   "source": [
    "def month_income (date_list:list, income_list:list)->dict:\n",
    "    Jan_sum = Feb_sum=March_sum = Apr_sum = May_sum = Jun_sum = Jul_sum = Aug_sum = Sep_sum = Oct_sum = Nov_sum = Dec_sum = 0\n",
    "    for i in range(len(dates)):\n",
    "        if date_list[i].find(\"-01-\") != -1:\n",
    "             Jan_sum =  Jan_sum + income_list[i]\n",
    "        elif date_list[i].find(\"-02-\") != -1:\n",
    "             Feb_sum =  Feb_sum + income_list[i]\n",
    "        elif date_list[i].find(\"-03-\") != -1:\n",
    "             March_sum =  March_sum + income_list[i]\n",
    "        elif date_list[i].find(\"-04-\") != -1:\n",
    "             Apr_sum =  Apr_sum + income_list[i]\n",
    "        elif date_list[i].find(\"-05-\") != -1:\n",
    "             May_sum =  May_sum + income_list[i]\n",
    "        elif date_list[i].find(\"-06-\") != -1:\n",
    "             Jun_sum =  Jun_sum + income_list[i]\n",
    "        elif date_list[i].find(\"-07-\") != -1:\n",
    "             Jul_sum =  Jul_sum + income_list[i]\n",
    "        elif date_list[i].find(\"-08-\") != -1:\n",
    "             Aug_sum =  Aug_sum + income_list[i]\n",
    "        elif date_list[i].find(\"-09-\") != -1:\n",
    "             Sep_sum =  Sep_sum + income_list[i]\n",
    "        elif date_list[i].find(\"-10-\") != -1:\n",
    "             Oct_sum =  Oct_sum + income_list[i]\n",
    "        elif date_list[i].find(\"-11-\") != -1:\n",
    "             Nov_sum =  Nov_sum + income_list[i]\n",
    "        elif date_list[i].find(\"-12-\") != -1:\n",
    "             Dec_sum =  Dec_sum + income_list[i]\n",
    "    total = {'January':Jan_sum, 'February':Feb_sum, 'March':March_sum, 'April':Apr_sum, 'May':May_sum, 'June':Jun_sum,\n",
    "            'July':Jul_sum, 'August':Aug_sum, 'September':Sep_sum, 'October':Oct_sum, 'November':Nov_sum, 'December':Dec_sum}\n",
    "    return total"
   ]
  },
  {
   "cell_type": "code",
   "execution_count": 15,
   "id": "f0b4dba9",
   "metadata": {},
   "outputs": [
    {
     "data": {
      "text/plain": [
       "{'January': 0,\n",
       " 'February': 0,\n",
       " 'March': 0,\n",
       " 'April': 0,\n",
       " 'May': 0,\n",
       " 'June': 0,\n",
       " 'July': 0,\n",
       " 'August': 0,\n",
       " 'September': 25647,\n",
       " 'October': 28645,\n",
       " 'November': 25098,\n",
       " 'December': 45452}"
      ]
     },
     "execution_count": 15,
     "metadata": {},
     "output_type": "execute_result"
    }
   ],
   "source": [
    "month_income(dates, income)"
   ]
  }
 ],
 "metadata": {
  "kernelspec": {
   "display_name": "Python 3 (ipykernel)",
   "language": "python",
   "name": "python3"
  },
  "language_info": {
   "codemirror_mode": {
    "name": "ipython",
    "version": 3
   },
   "file_extension": ".py",
   "mimetype": "text/x-python",
   "name": "python",
   "nbconvert_exporter": "python",
   "pygments_lexer": "ipython3",
   "version": "3.11.4"
  }
 },
 "nbformat": 4,
 "nbformat_minor": 5
}
